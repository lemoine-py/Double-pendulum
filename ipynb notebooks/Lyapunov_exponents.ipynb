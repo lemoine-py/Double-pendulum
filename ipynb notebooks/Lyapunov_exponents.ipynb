{
 "cells": [
  {
   "cell_type": "markdown",
   "metadata": {},
   "source": [
    "## SPIN-UP phase for the double pendulum system\n",
    "\n",
    "1. Jacobian function\n",
    "2. RK4 for matrices\n",
    "3. SPIN-UP phase -> 3.1 via RK4\n",
    "                    3.2 via scipy.linalg.expm\n",
    "\n",
    "\n",
    "> When the time step is too large, RK4 seems to produce a bias.\n",
    ">  the time step is small enough, the two methods give the same results.\n"
   ]
  },
  {
   "cell_type": "code",
   "execution_count": null,
   "metadata": {
    "vscode": {
     "languageId": "plaintext"
    }
   },
   "outputs": [],
   "source": []
  },
  {
   "cell_type": "code",
   "execution_count": null,
   "metadata": {
    "vscode": {
     "languageId": "plaintext"
    }
   },
   "outputs": [],
   "source": [
    "\"\"\" \n",
    "This code aims to compute the largest Lyapunov exponents of the double pendulum system\n",
    "\n",
    "1. Defining the Jacobian matrix\n",
    "2. Runge-Kutta 4 for matrices\n",
    "\n",
    "3. Local Lyapunov exponents\n",
    "4. Global Lyapunov exponents\n",
    "5. Graphs\n",
    "\n",
    "\"\"\"\n",
    "\n",
    "# Libraries\n",
    "import numpy as np\n",
    "import scipy as sp # For the matrix exponential\n",
    "import matplotlib.pyplot as plt\n",
    "from tqdm import tqdm # Progression bar\n",
    "\n",
    "# math labels\n",
    "lambda_math = r\"$\\lambda_{max}$\"\n",
    "lambda_n_math = r\"$\\lambda_{max,n}$\"\n",
    "delta_math = r\"$\\delta x_0$\"\n",
    "t_max_math = r\"$t_{max}$\"\n",
    "t_step_math = r\"$t_{step}$\"\n",
    "\n",
    "# Parameters\n",
    "m1 = 1\n",
    "m2 = 1\n",
    "l1 = 1\n",
    "l2 = 1\n",
    "g = 9.81\n",
    "\n",
    "# Time parameters\n",
    "t_step = 20\n",
    "dt = 0.01\n",
    "N = int(np.floor(t_step/dt))+1 # about 2000 timesteps\n",
    "\n",
    "# Initial dx0\n",
    "dx0 = np.array([0, 0, 1, 0])\n",
    "dx0 = dx0/(np.linalg.norm(dx0)*10**10) # so that norm(dx0) = 10**(-10)\n",
    "\n",
    "def F_deriv(w1, w2, th1, th2):\n",
    "    num1 = -g*(2*m1+m2)*np.sin(th1)-m2*g*np.sin(th1-2*th2)-2*np.sin(th1-th2)*m2*(w2**2*l2+w1**2*l1*np.cos(th1-th2))\n",
    "    denom1 = l1*(2*m1+m2-m2*np.cos(2*th1-2*th2))\n",
    "    \n",
    "    num2 = 2*np.sin(th1-th2)*(w1**2*l1*(m1+m2)+g*(m1+m2)*np.cos(th1)+w2**2*l2*m2*np.cos(th1-th2))\n",
    "    denom2 = l2*(2*m1+m2-m2*np.cos(2*th1-2*th2))\n",
    "    \n",
    "    w1_dot = num1/denom1\n",
    "    w2_dot = num2/denom2    \n",
    "    \n",
    "    return np.array([w1_dot, w2_dot, w1, w2])\n",
    "    \n",
    "def last_RK4(f, u0, dt, N):\n",
    "    \"\"\" Returns : u (4x1 array of last computed values)\"\"\"\n",
    "    u = np.zeros(4)\n",
    "    u = u0\n",
    "    for i in range(N - 1):\n",
    "        k1 = dt * f(u[0], u[1], u[2], u[3])\n",
    "        k2 = dt * f(u[0] + k1[0]/2, u[1] + k1[1]/2, u[2] + k1[2]/2, u[3] + k1[3]/2)\n",
    "        k3 = dt * f(u[0] + k2[0]/2, u[1] + k2[1]/2, u[2] + k2[2]/2, u[3] + k2[3]/2)\n",
    "        k4 = dt * f(u[0] + k3[0], u[1] + k3[1], u[2] + k3[2], u[3] + k3[3])\n",
    "        u = u + 1/6 * (k1 + 2*k2 + 2*k3 + k4)\n",
    "    return u # last computed set of 4 values\n",
    "\n",
    "def jacobian(w1, w2, th1, th2):\n",
    "    jac = np.zeros((4,4))\n",
    "   \n",
    "    jac[0][2] = 1 #dth1/dw1\n",
    "    jac[1][3] = 1 #dth2/w2\n",
    "    jac[2][2] = -4*m2*w1*np.sin(th1 - th2)*np.cos(th1 - th2)/(2*m1 - m2*np.cos(2*th1 - 2*th2) + m2)\n",
    "    jac[2][3] = -4*l2*m2*w2*np.sin(th1 - th2)/(l1*(2*m1 - m2*np.cos(2*th1 - 2*th2) + m2))\n",
    "    jac[3][2] = 4*l1*w1*(m1 + m2)*np.sin(th1 - th2)/(l2*(2*m1 - m2*np.cos(2*th1 - 2*th2) + m2))\n",
    "    jac[3][3] = 4*m2*w2*np.sin(th1 - th2)*np.cos(th1 - th2)/(2*m1 - m2*np.cos(2*th1 - 2*th2) + m2)\n",
    "    jac[2][0] = -2*m2*(-g*m2*np.sin(th1 - 2*th2) - g*(2*m1 + m2)*np.sin(th1) - 2*m2*(l1*w1**2*np.cos(th1 - th2) + l2*w2**2)*np.sin(th1 - th2))*np.sin(2*th1 - 2*th2)/(l1*(2*m1 - m2*np.cos(2*th1 - 2*th2) + m2)**2) + (-g*m2*np.cos(th1 - 2*th2) - g*(2*m1 + m2)*np.cos(th1) + 2*l1*m2*w1**2*np.sin(th1 - th2)**2 - 2*m2*(l1*w1**2*np.cos(th1 - th2) + l2*w2**2)*np.cos(th1 - th2))/(l1*(2*m1 - m2*np.cos(2*th1 - 2*th2) + m2))\n",
    "    jac[2][1] = 2*m2*(-g*m2*np.sin(th1 - 2*th2) - g*(2*m1 + m2)*np.sin(th1) - 2*m2*(l1*w1**2*np.cos(th1 - th2) + l2*w2**2)*np.sin(th1 - th2))*np.sin(2*th1 - 2*th2)/(l1*(2*m1 - m2*np.cos(2*th1 - 2*th2) + m2)**2) + (2*g*m2*np.cos(th1 - 2*th2) - 2*l1*m2*w1**2*np.sin(th1 - th2)**2 + 2*m2*(l1*w1**2*np.cos(th1 - th2) + l2*w2**2)*np.cos(th1 - th2))/(l1*(2*m1 - m2*np.cos(2*th1 - 2*th2) + m2))\n",
    "    jac[3][0] = -4*m2*(g*(m1 + m2)*np.cos(th1) + l1*w1**2*(m1 + m2) + l2*m2*w2**2*np.cos(th1 - th2))*np.sin(th1 - th2)*np.sin(2*th1 - 2*th2)/(l2*(2*m1 - m2*np.cos(2*th1 - 2*th2) + m2)**2) + 2*(-g*(m1 + m2)*np.sin(th1) - l2*m2*w2**2*np.sin(th1 - th2))*np.sin(th1 - th2)/(l2*(2*m1 - m2*np.cos(2*th1 - 2*th2) + m2)) + 2*(g*(m1 + m2)*np.cos(th1) + l1*w1**2*(m1 + m2) + l2*m2*w2**2*np.cos(th1 - th2))*np.cos(th1 - th2)/(l2*(2*m1 - m2*np.cos(2*th1 - 2*th2) + m2))\n",
    "    jac[3][1] = 2*m2*w2**2*np.sin(th1 - th2)**2/(2*m1 - m2*np.cos(2*th1 - 2*th2) + m2) + 4*m2*(g*(m1 + m2)*np.cos(th1) + l1*w1**2*(m1 + m2) + l2*m2*w2**2*np.cos(th1 - th2))*np.sin(th1 - th2)*np.sin(2*th1 - 2*th2)/(l2*(2*m1 - m2*np.cos(2*th1 - 2*th2) + m2)**2) - 2*(g*(m1 + m2)*np.cos(th1) + l1*w1**2*(m1 + m2) + l2*m2*w2**2*np.cos(th1 - th2))*np.cos(th1 - th2)/(l2*(2*m1 - m2*np.cos(2*th1 - 2*th2) + m2))\n",
    "                                                                                   \n",
    "    return jac\n",
    "\n",
    "def lyapunov(u, dx, t_step):\n",
    "    \"\"\" Computing lambda_max after t_step seconds, starting from a given u and dx\"\"\"\n",
    "    J = jacobian(u[0],u[1],u[2],u[3]) # evaluating the jacobian at u\n",
    "    dxf = sp.linalg.expm(J*t_step) @ dx # solving for dx after t seconds\n",
    "    norm = np.linalg.norm(dxf)\n",
    "    lyapf = np.log(norm/np.linalg.norm(dx))*1/t_step # Lyapunov exponent after t seconds\n",
    "    return lyapf, dxf\n",
    "\n",
    "#-------------------------------------------\n",
    "\n",
    "th = np.linspace(0,np.pi,30) # Angle array\n",
    "\n",
    "# Templates for initial conditions (u_0)\n",
    "theta_theta = [np.array([0, 0, th[p], th[p]])  for p in range(30)]\n",
    "theta_minustheta = [np.array([0, 0, th[p], -th[p]]) for p in range(30)]\n",
    "theta_zero = [np.array([0, 0, th[p], 0]) for p in range(30)]\n",
    "zero_theta = [np.array([0, 0, 0, th[p]]) for p in range(30)]\n",
    "\n",
    "def global_lyaps(u_0, dx0, dt, last_RK4, F_deriv, lyapunov):\n",
    "    \"\"\"Computes the global largest lyapunov exponents for different initial conditions\"\"\"\n",
    "\n",
    "    lya_th = np.zeros(30) # \"Lyapunov for each angle\" array\n",
    "\n",
    "    steps = 30*50\n",
    "    with tqdm(total=steps) as pbar: # Progression bar\n",
    "        for p in range(30):\n",
    "            u0 = u_0[p]\n",
    "            lya = np.zeros(50)\n",
    "            for i in range(50):\n",
    "                u1 = last_RK4(F_deriv, u0, dt, N) # updating th1, th2, w1, w2\n",
    "                lya[i], dx = lyapunov(u0, dx0, t_step) # computing the lyapunov exponent\n",
    "                u0 = u1 # updating initial conditions\n",
    "                dx0 = dx/(np.linalg.norm(dx)*10**10) # Renormalising so that norm(dx0) = 10**(-10)\n",
    "                pbar.update(1)  # Updates the progression bar\n",
    "            lya_th[p] = np.average(lya) \n",
    "            # filtered_lya_th = np.array(lya_th)[np.isfinite(lya_th)] # Filtering the NaN and inf values\n",
    "            # lya_th_ave[p] = np.average(filtered_lya_th)\n",
    "    return lya_th\n",
    "\n",
    "def graph_lyaps(th, lya_th, u_0):\n",
    "    \"\"\" Plots the Lyapunov exponents for different initial conditions\"\"\"\n",
    "\n",
    "    if all(np.array_equal(a, b) for a, b in zip(u_0, theta_theta)):\n",
    "        title = r\"Initial conditions: $\\theta_{1,0}= \\theta_{2,0} = \\theta$ ; $\\omega_{1,0} = \\omega_{2,0} = 0$\"\n",
    "        filename = \"global_lyap_theta_theta.png\"\n",
    "    elif all(np.array_equal(a, b) for a, b in zip(u_0, theta_minustheta)):\n",
    "        title = r\"Initial conditions: $\\theta_{1,0} = \\theta$, $\\theta_{2,0} = -\\theta$ ; $\\omega_{1,0} = \\omega_{2,0} = 0$\"\n",
    "        filename = \"global_lyap_theta_minustheta.png\"\n",
    "    elif all(np.array_equal(a, b) for a, b in zip(u_0, theta_zero)):\n",
    "        title = r\"Initial conditions: $\\theta_{1,0} = \\theta$, $\\theta_{2,0} = 0$ ; $\\omega_{1,0} = \\omega_{2,0} = 0$\"\n",
    "        filename = \"global_lyap_theta_zero.png\"\n",
    "    elif all(np.array_equal(a, b) for a, b in zip(u_0, zero_theta)):\n",
    "        title = r\"Initial conditions: $\\theta_{1,0} = 0$, $\\theta_{2,0} = \\theta$ ; $\\omega_{1,0} = \\omega_{2,0} = 0$\"\n",
    "        filename = \"global_lyap_zero_theta.png\"\n",
    "    \n",
    "    plt.figure()\n",
    "    plt.plot(th, lya_th, label = f\"{lambda_n_math} average\")\n",
    "    plt.suptitle(title)\n",
    "    plt.ylabel(\"Lyapunov exponent\")\n",
    "    plt.xlabel(r\"$\\theta$ (rad)\")\n",
    "    plt.text(0.2, 0.7, f\"dt = {dt} \\n {t_max_math} = n*{t_step_math} = 50*20\\n {delta_math} = [0,0,1e-10,0]\", bbox = dict(facecolor = \"white\", alpha = 1), horizontalalignment='center', verticalalignment='center', transform=plt.gca().transAxes)\n",
    "    plt.legend()\n",
    "    plt.grid()\n",
    "    plt.savefig(filename)\n"
   ]
  },
  {
   "cell_type": "code",
   "execution_count": null,
   "metadata": {
    "vscode": {
     "languageId": "plaintext"
    }
   },
   "outputs": [],
   "source": [
    "lyap_theta_theta = global_lyaps(theta_theta, dx0, dt, last_RK4, F_deriv, lyapunov)\n",
    "graph_lyaps(th, lyap_theta_theta, theta_theta)\n",
    "plt.show()"
   ]
  },
  {
   "cell_type": "code",
   "execution_count": null,
   "metadata": {
    "vscode": {
     "languageId": "plaintext"
    }
   },
   "outputs": [],
   "source": [
    "\n",
    "lyap_theta_minustheta = global_lyaps(theta_minustheta, dx0, dt, last_RK4, F_deriv, lyapunov)\n",
    "graph_lyaps(th, lyap_theta_minustheta, theta_minustheta)\n",
    "plt.show()"
   ]
  },
  {
   "cell_type": "code",
   "execution_count": null,
   "metadata": {
    "vscode": {
     "languageId": "plaintext"
    }
   },
   "outputs": [],
   "source": [
    "\n",
    "graph_lyaps(th, lyap_theta_zero, theta_zero)\n",
    "lyap_theta_zero = global_lyaps(theta_zero, dx0, dt, last_RK4, F_deriv, lyapunov)\n",
    "plt.show()"
   ]
  },
  {
   "cell_type": "code",
   "execution_count": null,
   "metadata": {
    "vscode": {
     "languageId": "plaintext"
    }
   },
   "outputs": [],
   "source": [
    "graph_lyaps(th, lyap_zero_theta, zero_theta)\n",
    "lyap_zero_theta = global_lyaps(zero_theta, dx0, dt, last_RK4, F_deriv, lyapunov)\n",
    "plt.show()"
   ]
  },
  {
   "cell_type": "code",
   "execution_count": null,
   "metadata": {
    "vscode": {
     "languageId": "plaintext"
    }
   },
   "outputs": [],
   "source": []
  }
 ],
 "metadata": {
  "language_info": {
   "name": "python"
  }
 },
 "nbformat": 4,
 "nbformat_minor": 2
}
