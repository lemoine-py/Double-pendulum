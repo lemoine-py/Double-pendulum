{
 "cells": [
  {
   "cell_type": "markdown",
   "metadata": {},
   "source": [
    "# The double pendulum\n",
    "\n",
    "This project's aim is to simulate numerically, via python, the chaotic movement of an idealized double pendulum system in two dimensions. We will then try to understand by analysing errors and the behaviour of the solution why this system is called \"chaotic\" and how chaotic it is exactly."
   ]
  },
  {
   "cell_type": "markdown",
   "metadata": {},
   "source": [
    "## Mathematical model\n",
    "\n",
    "**Lagrangian method**\n",
    "\n",
    "The two Euler-Lagrange equations describing our double pendulum system are:\n",
    "\n",
    "\n",
    "Some changes in variables can be done here, to give the following expressions:"
   ]
  },
  {
   "cell_type": "markdown",
   "metadata": {},
   "source": [
    "## Numerical scheme\n",
    "\n",
    "We have two ordinary differential equations, both of the second order, that we will analyze numerically via the **finite differences method**.\n",
    "\n",
    "In this particular case, we will choose the ***Runge-Kutta 4*** scheme.\n",
    "\n",
    "Normally, we would want to use a symplectic scheme that is able to conserve the value of the total energy of the system. But the error created by a non-syplectic scheme is not significant enough for small timescales used to study a typical double pendulum. \n",
    "RK4 "
   ]
  },
  {
   "cell_type": "code",
   "execution_count": null,
   "metadata": {},
   "outputs": [],
   "source": [
    "# INITIALIZATION of the project and the parameters\n",
    "\n",
    "def Initialize(planet):\n",
    "    print(\"\")\n",
    "    print(\" ___ DOUBLE PENDULUM SIMULATION ___ \")\n",
    "    print(\"\")\n",
    "    print(\" --- Initialization of the model ----\")\n",
    "    print(\"\")\n",
    "    g = planet()\n",
    "    print(\"\")\n",
    "    l1 = float(input(\" - Length l1 of the upper rod (m): ... \"))\n",
    "    print(\"\")\n",
    "    l2 = float(input(\" - Length l2 of the lower rod (m): ... \"))\n",
    "    print(\"\")\n",
    "    m1 = float(input(\" - Mass m1 of the upper rod (kg): ... \"))\n",
    "    print(\"\")\n",
    "    m2 = float(input(\" - Mass m2 of the lower rod (kg): ... \"))\n",
    "    print(\"\")\n",
    "    theta1 = float(input(\" - Initial angle theta_1 of the upper rod (degrees): ... \"))\n",
    "    print(\"\")\n",
    "    theta2 = float(input(\" - Initial angle theta_2 of the lower rod (degrees): ... \"))\n",
    "    print(\"\")\n",
    "    omega1 = float(input(\" - Initial angular velocity omega_1 of the upper rod (m/s): ... \"))\n",
    "    print(\"\")\n",
    "    omega2 = float(input(\" - Initial angular velocity omega_2 of the lower rod (m/s): ... \"))\n",
    "    print(\"\")\n",
    "    return g, l1, l2, m1, m2, theta1, theta2, omega1, omega2\n",
    "\n",
    "def planet():\n",
    "    \"\"\" Sets the planet (and thus the gravitational acceleration g) where the pendulum is located \"\"\"\n",
    "    \n",
    "    planet_list = [\"mercury\", \"venus\", \"earth\", \"mars\", \"jupiter\", \"saturn\", \"uranus\", \"neptune\", \"pluto\", \"sun\", \"Mercury\", \"Venus\", \"Earth\", \"Mars\", \"Jupiter\", \"Saturn\", \"Uranus\", \"Neptune\", \"Pluto\", \"Sun\"]\n",
    "    \n",
    "    planet = input(\"\\n  ~ Choose the planet : \\n - Mercury \\n - Venus \\n - Earth \\n - Mars \\n - Jupiter \\n - Saturn \\n - Uranus \\n - Neptune \\n - Pluto \\n - Sun \\n -> ... \")\n",
    "    while planet not in planet_list:\n",
    "        print(\"\\n  ~ The planet you entered is not in the list. Please enter a valid planet.\")\n",
    "        planet = input(\"\\n  ~ Choose the planet : \\n - Mercury \\n - Venus \\n - Earth \\n - Mars \\n - Jupiter \\n - Saturn \\n - Uranus \\n - Neptune \\n - Pluto \\n - Sun \\n -> ... \")\n",
    "    \n",
    "    planet_g = {\"Mercury\" : 3.70,\n",
    "                \"Venus\" : 8.87,\n",
    "                \"Earth\" : 9.81,\n",
    "                \"Mars\" : 3.71,\n",
    "                \"Jupiter\" : 24.79,\n",
    "                \"Saturn\" : 10.44,\n",
    "                \"Uranus\" : 8.87,\n",
    "                \"Neptune\" : 11.15,\n",
    "                \"Pluto\" : 0.62,\n",
    "                \"Sun\" : 274}\n",
    "\n",
    "    if planet == \"mercury\" or planet == \"Mercury\":\n",
    "        g = planet_g[\"Mercury\"]\n",
    "    elif planet == \"venus\" or planet == \"Venus\":\n",
    "        g = planet_g[\"Venus\"]\n",
    "    elif planet == \"earth\" or planet == \"Earth\":\n",
    "        g = planet_g[\"Earth\"]\n",
    "    elif planet == \"mars\" or planet == \"Mars\":\n",
    "        g = planet_g[\"Mars\"]\n",
    "    elif planet == \"jupiter\" or planet == \"Jupiter\":\n",
    "        g = planet_g[\"Jupiter\"]\n",
    "    elif planet == \"saturn\" or planet == \"Saturn\":\n",
    "        g = planet_g[\"Saturn\"]\n",
    "    elif planet == \"uranus\" or planet == \"Uranus\":\n",
    "        g = planet_g[\"Uranus\"]\n",
    "    elif planet == \"neptune\" or planet == \"Neptune\":\n",
    "        g = planet_g[\"Neptune\"]\n",
    "    elif planet == \"pluto\" or planet == \"Pluto\":\n",
    "        g = planet_g[\"Pluto\"]\n",
    "    elif planet == \"sun\" or planet == \"Sun\":\n",
    "        g = planet_g[\"Sun\"]\n",
    "    else:\n",
    "        print(\"Error\")\n",
    "        g = 0\n",
    "    return g\n",
    "\n",
    "# Call the initialization function to fix the parameters\n",
    "g, l1, l2, m1, m2, th1_0, th2_0, w1_0, w2_0 = Initialize(planet)"
   ]
  },
  {
   "cell_type": "code",
   "execution_count": null,
   "metadata": {},
   "outputs": [],
   "source": [
    "import numpy as np\n",
    "\n",
    "# Time parameters\n",
    "t_max = 50\n",
    "h = 0.01 # Timestep size matters !!\n",
    "\n",
    "# Initial conditions\n",
    "u0 = np.array([w1_0, w2_0, th1_0, th2_0])"
   ]
  },
  {
   "cell_type": "markdown",
   "metadata": {},
   "source": [
    "## Visualization of the system"
   ]
  },
  {
   "cell_type": "code",
   "execution_count": null,
   "metadata": {},
   "outputs": [],
   "source": [
    "import matplotlib.pyplot as plt\n",
    "\n",
    "fig, ax = plt.subplots(2, 2)"
   ]
  },
  {
   "cell_type": "markdown",
   "metadata": {},
   "source": [
    "## Energy of the system"
   ]
  },
  {
   "cell_type": "code",
   "execution_count": null,
   "metadata": {},
   "outputs": [],
   "source": []
  },
  {
   "cell_type": "markdown",
   "metadata": {},
   "source": [
    "## Spin-up"
   ]
  },
  {
   "cell_type": "code",
   "execution_count": null,
   "metadata": {},
   "outputs": [],
   "source": []
  },
  {
   "cell_type": "markdown",
   "metadata": {},
   "source": [
    "## Chaos and Lyapunov exponents"
   ]
  },
  {
   "cell_type": "code",
   "execution_count": null,
   "metadata": {},
   "outputs": [],
   "source": []
  }
 ],
 "metadata": {
  "kernelspec": {
   "display_name": "Python 3",
   "language": "python",
   "name": "python3"
  },
  "language_info": {
   "codemirror_mode": {
    "name": "ipython",
    "version": 3
   },
   "file_extension": ".py",
   "mimetype": "text/x-python",
   "name": "python",
   "nbconvert_exporter": "python",
   "pygments_lexer": "ipython3",
   "version": "3.13.0"
  }
 },
 "nbformat": 4,
 "nbformat_minor": 2
}
