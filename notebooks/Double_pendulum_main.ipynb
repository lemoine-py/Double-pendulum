{
 "cells": [
  {
   "cell_type": "markdown",
   "metadata": {},
   "source": [
    "# The double pendulum\n",
    "\n",
    "## Physical resolution\n",
    "\n",
    "**Lagrangian method**\n",
    "\n",
    "## Implementation via python\n",
    "\n",
    "*A few explanations of the methods* \n",
    "\n",
    "*start of the code*\n"
   ]
  }
 ],
 "metadata": {
  "language_info": {
   "name": "python"
  }
 },
 "nbformat": 4,
 "nbformat_minor": 2
}
