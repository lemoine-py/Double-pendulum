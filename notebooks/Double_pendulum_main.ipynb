{
 "cells": [
  {
   "cell_type": "markdown",
   "metadata": {},
   "source": [
    "# The double pendulum\n",
    "\n",
    "## Physical resolution\n",
    "\n",
    "**Lagrangian method**\n",
    "\n",
    "## Implementation via python\n",
    "\n",
    "*A few explanations of the methods* \n",
    "\n",
    "*start of the code*\n"
   ]
  },
  {
   "cell_type": "code",
   "execution_count": null,
   "metadata": {},
   "outputs": [
    {
     "name": "stdout",
     "output_type": "stream",
     "text": [
      "\n",
      " ___ DOUBLE PENDULUM SIMULATION ___ \n",
      "\n",
      " --- Initialization of the model ----\n",
      "\n",
      "\n",
      "\n",
      "\n",
      "\n",
      "\n",
      "\n",
      "\n"
     ]
    },
    {
     "data": {
      "text/plain": [
       "(9.81, 2.0, 3.0, 2.0, 3.0, 2.0, 3.0)"
      ]
     },
     "execution_count": 2,
     "metadata": {},
     "output_type": "execute_result"
    }
   ],
   "source": [
    "import numpy as np\n",
    "import scipy as sp\n",
    "\n",
    "def planet():\n",
    "    \"\"\" Sets the planet (and thus the gravitational acceleration g) where the pendulum is located \"\"\"\n",
    "    \n",
    "    planet_list = [\"mercury\", \"venus\", \"earth\", \"mars\", \"jupiter\", \"saturn\", \"uranus\", \"neptune\", \"pluto\", \"sun\", \"Mercury\", \"Venus\", \"Earth\", \"Mars\", \"Jupiter\", \"Saturn\", \"Uranus\", \"Neptune\", \"Pluto\", \"Sun\"]\n",
    "    \n",
    "    planet = input(\"\\n  ~ Choose the planet : \\n - Mercury \\n - Venus \\n - Earth \\n - Mars \\n - Jupiter \\n - Saturn \\n - Uranus \\n - Neptune \\n - Pluto \\n - Sun \\n -> ... \")\n",
    "    while planet not in planet_list:\n",
    "        print(\"\\n  ~ The planet you entered is not in the list. Please enter a valid planet.\")\n",
    "        planet = input(\"\\n  ~ Choose the planet : \\n - Mercury \\n - Venus \\n - Earth \\n - Mars \\n - Jupiter \\n - Saturn \\n - Uranus \\n - Neptune \\n - Pluto \\n - Sun \\n -> ... \")\n",
    "    \n",
    "    planet_g = {\"Mercury\" : 3.70,\n",
    "                \"Venus\" : 8.87,\n",
    "                \"Earth\" : 9.81,\n",
    "                \"Mars\" : 3.71,\n",
    "                \"Jupiter\" : 24.79,\n",
    "                \"Saturn\" : 10.44,\n",
    "                \"Uranus\" : 8.87,\n",
    "                \"Neptune\" : 11.15,\n",
    "                \"Pluto\" : 0.62,\n",
    "                \"Sun\" : 274}\n",
    "\n",
    "    if planet == \"mercury\" or planet == \"Mercury\":\n",
    "        g = planet_g[\"Mercury\"]\n",
    "    elif planet == \"venus\" or planet == \"Venus\":\n",
    "        g = planet_g[\"Venus\"]\n",
    "    elif planet == \"earth\" or planet == \"Earth\":\n",
    "        g = planet_g[\"Earth\"]\n",
    "    elif planet == \"mars\" or planet == \"Mars\":\n",
    "        g = planet_g[\"Mars\"]\n",
    "    elif planet == \"jupiter\" or planet == \"Jupiter\":\n",
    "        g = planet_g[\"Jupiter\"]\n",
    "    elif planet == \"saturn\" or planet == \"Saturn\":\n",
    "        g = planet_g[\"Saturn\"]\n",
    "    elif planet == \"uranus\" or planet == \"Uranus\":\n",
    "        g = planet_g[\"Uranus\"]\n",
    "    elif planet == \"neptune\" or planet == \"Neptune\":\n",
    "        g = planet_g[\"Neptune\"]\n",
    "    elif planet == \"pluto\" or planet == \"Pluto\":\n",
    "        g = planet_g[\"Pluto\"]\n",
    "    elif planet == \"sun\" or planet == \"Sun\":\n",
    "        g = planet_g[\"Sun\"]\n",
    "    else:\n",
    "        print(\"Error\")\n",
    "        g = 0\n",
    "    return g\n",
    "\n",
    "def Initialize(planet):\n",
    "    print(\"\")\n",
    "    print(\" ___ DOUBLE PENDULUM SIMULATION ___ \")\n",
    "    print(\"\")\n",
    "    print(\" --- Initialization of the model ----\")\n",
    "    print(\"\")\n",
    "    g = planet()\n",
    "    print(\"\")\n",
    "    l = float(input(\" - Length l of the two rods (m): ... \"))\n",
    "    print(\"\")\n",
    "    m = float(input(\" - Mass m of the two rods (kg): ... \"))\n",
    "    print(\"\")\n",
    "    theta1 = float(input(\" - Initial angle theta_1 of the top rod (degrees): ... \"))\n",
    "    print(\"\")\n",
    "    theta2 = float(input(\" - Initial angle theta_2 of the bottom rod (degrees): ... \"))\n",
    "    print(\"\")\n",
    "    omega1 = float(input(\" - Initial angular velocity omega_1 of the top rod (m/s): ... \"))\n",
    "    print(\"\")\n",
    "    omega2 = float(input(\" - Initial angular velocity omega_2 of the bottom rod (m/s): ... \"))\n",
    "    print(\"\")\n",
    "    return g, l, m, theta1, theta2, omega1, omega2\n",
    "\n",
    "g,l,m, theta1, theta2, omega1, omega2 = Initialize(planet)\n",
    "\n",
    "\n"
   ]
  }
 ],
 "metadata": {
  "kernelspec": {
   "display_name": "Python 3",
   "language": "python",
   "name": "python3"
  },
  "language_info": {
   "codemirror_mode": {
    "name": "ipython",
    "version": 3
   },
   "file_extension": ".py",
   "mimetype": "text/x-python",
   "name": "python",
   "nbconvert_exporter": "python",
   "pygments_lexer": "ipython3",
   "version": "3.13.0"
  }
 },
 "nbformat": 4,
 "nbformat_minor": 2
}
